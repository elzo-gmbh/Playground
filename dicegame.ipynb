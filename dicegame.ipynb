{
 "cells": [
  {
   "cell_type": "code",
   "execution_count": null,
   "metadata": {},
   "outputs": [],
   "source": [
    "import numpy as np\n",
    "\n",
    "mumber_of_dice = 3\n",
    "\n",
    "\n",
    "try_count_list = []\n",
    "\n",
    "def get_sum():\n",
    "\n",
    "for i in 10000:\n",
    "    currant_try_counter=0\n",
    "\n",
    "    for tries in 10000000:\n",
    "        currant_try_counter += 1\n",
    "        if(np.sum(np.random.randint(low,6, size = )+\n",
    "        ==)\n",
    "        try_count_list.append(currant_try_count)\n",
    "        break\n",
    "\n",
    "\n",
    "print(list average"
   ]
  }
 ],
 "metadata": {
  "language_info": {
   "name": "python"
  },
  "orig_nbformat": 4
 },
 "nbformat": 4,
 "nbformat_minor": 2
}
